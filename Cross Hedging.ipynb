{
 "cells": [
  {
   "cell_type": "code",
   "execution_count": 1,
   "metadata": {},
   "outputs": [],
   "source": [
    "import pandas as pd\n",
    "import numpy as np\n",
    "import matplotlib.pyplot as plt"
   ]
  },
  {
   "cell_type": "code",
   "execution_count": 2,
   "metadata": {},
   "outputs": [],
   "source": [
    "unformatted = pd.read_excel('gold and silver.xlsx')\n",
    "\n",
    "data = []\n",
    "for date in unformatted['USD/Silver']:\n",
    "    if date == pd.NaT:\n",
    "        break\n",
    "\n",
    "    gold_row = unformatted[unformatted['USD/Gold'] == date]\n",
    "    # no corresponding gold price\n",
    "    if gold_row.empty:\n",
    "        continue\n",
    "\n",
    "    silver_row = unformatted[unformatted['USD/Silver'] == date]\n",
    "    \n",
    "    data.append((date, gold_row['Unnamed: 5'].values[0], silver_row['Unnamed: 8'].values[0]))\n",
    "    \n",
    "\n",
    "spot_prices = pd.DataFrame(data, columns=['Date', 'Gold', 'Silver'])\n",
    "spot_prices.set_index('Date', inplace=True)"
   ]
  },
  {
   "cell_type": "code",
   "execution_count": 3,
   "metadata": {},
   "outputs": [],
   "source": [
    "gold_futures = pd.read_csv('GC00G.csv')\n",
    "gold_futures['Date'] = pd.to_datetime(gold_futures['Date'])\n",
    "gold_futures.set_index('Date', inplace=True)\n",
    "gold_futures = gold_futures.loc[:, 'Close']"
   ]
  },
  {
   "cell_type": "markdown",
   "metadata": {},
   "source": [
    "### Minimum Variance Cross-Hedge\n",
    "\n",
    "In the case that an asset doesn't have its own futures contracts, a related asset can be used instead. The assets are assumed to have a roughly linear relationship:\n",
    "\n",
    "$\\Delta S = b + m \\Delta F + \\epsilon $\n",
    "\n",
    "Where: $\\Delta S$ : change in spot price \\\n",
    "$\\Delta F$ : change in futures price\n",
    "\n",
    "When short hedging the change in a positions value is:\n",
    "\n",
    "$\\Delta S - h\\Delta F= b + (m-h) \\Delta F + \\epsilon $\n",
    "\n",
    "Where h: hedge ratio\n",
    "\n",
    "In order to minimise the variance of this position, is is clear that the hedge ratio h should be equal to the gradient m in the spot and futures relationship. "
   ]
  },
  {
   "cell_type": "code",
   "execution_count": 4,
   "metadata": {},
   "outputs": [],
   "source": [
    "# Pair gold future with silver spot for each timestamp\n",
    "price_pairs = []\n",
    "for date, gold_future_price in gold_futures.items():\n",
    "    price_pairs.append((spot_prices.loc[date]['Silver'], gold_future_price))\n",
    "\n",
    "change_pairs = []\n",
    "prev_silver = price_pairs[0][0]\n",
    "prev_future = price_pairs[0][1]\n",
    "for (silver, future) in price_pairs[1:]:\n",
    "    change_pairs.append((silver - prev_silver, future - prev_future))\n",
    "    prev_silver = silver\n",
    "    prev_future = future"
   ]
  },
  {
   "cell_type": "code",
   "execution_count": 8,
   "metadata": {},
   "outputs": [
    {
     "data": {
      "image/png": "[encoded data removed]",
      "text/plain": [
       "<Figure size 432x288 with 1 Axes>"
      ]
     },
     "metadata": {
      "needs_background": "light"
     },
     "output_type": "display_data"
    }
   ],
   "source": [
    "x, y = zip(*change_pairs)\n",
    "\n",
    "gradient, offset = np.polyfit(x, y, 1)\n",
    "regression = np.array(x) * gradient + offset\n",
    "plt.scatter(x,y)\n",
    "plt.plot(x, regression, color='red')\n",
    "plt.xlabel('Silver price change')\n",
    "plt.ylabel('Gold future price change')\n",
    "plt.show()"
   ]
  }
 ],
 "metadata": {
  "kernelspec": {
   "display_name": "base",
   "language": "python",
   "name": "python3"
  },
  "language_info": {
   "codemirror_mode": {
    "name": "ipython",
    "version": 3
   },
   "file_extension": ".py",
   "mimetype": "text/x-python",
   "name": "python",
   "nbconvert_exporter": "python",
   "pygments_lexer": "ipython3",
   "version": "3.9.12"
  }
 },
 "nbformat": 4,
 "nbformat_minor": 2
}
